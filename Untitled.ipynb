{
 "cells": [
  {
   "cell_type": "code",
   "execution_count": 4,
   "id": "727dbfc6-b86a-4ad0-b8eb-2240ecad8084",
   "metadata": {},
   "outputs": [
    {
     "name": "stdout",
     "output_type": "stream",
     "text": [
      "Initialized empty Git repository in C:/Users/hp/forecasting of stock market/.git/\n"
     ]
    }
   ],
   "source": [
    "!git init\n"
   ]
  },
  {
   "cell_type": "code",
   "execution_count": 5,
   "id": "22ec5bbc-7279-48db-8b64-76211daf4e52",
   "metadata": {},
   "outputs": [],
   "source": [
    "!git remote add origin https://github.com/nabisnab/Forecasting-of-Stock-Market.git\n"
   ]
  },
  {
   "cell_type": "code",
   "execution_count": 7,
   "id": "6270dd7f-a793-415a-9606-076a1c6afb25",
   "metadata": {},
   "outputs": [],
   "source": [
    "!git branch -M main"
   ]
  },
  {
   "cell_type": "code",
   "execution_count": null,
   "id": "4fd34d2a-bab1-4d36-85f8-46673f0b4754",
   "metadata": {},
   "outputs": [],
   "source": []
  }
 ],
 "metadata": {
  "kernelspec": {
   "display_name": "Python 3 (ipykernel)",
   "language": "python",
   "name": "python3"
  },
  "language_info": {
   "codemirror_mode": {
    "name": "ipython",
    "version": 3
   },
   "file_extension": ".py",
   "mimetype": "text/x-python",
   "name": "python",
   "nbconvert_exporter": "python",
   "pygments_lexer": "ipython3",
   "version": "3.13.5"
  }
 },
 "nbformat": 4,
 "nbformat_minor": 5
}
